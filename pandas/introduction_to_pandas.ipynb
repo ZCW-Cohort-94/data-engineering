{
 "cells": [
  {
   "cell_type": "markdown",
   "metadata": {},
   "source": [
    "# Introduction to Pandas"
   ]
  },
  {
   "cell_type": "markdown",
   "metadata": {},
   "source": [
    "### Outline\n",
    "* [What Is Pandas?](#what-is-pandas)\n",
    "* [Why Pandas?](#why-pandas)\n",
    "* [Installing Pandas](#installing-numpy)\n",
    "    * with a stack\n",
    "    * with pip\n",
    "* [Getting started](#getting-started)\n",
    "* [Data structures](#data-structures)\n",
    "    * Series\n",
    "    * DataFrame\n",
    "* [Series overview](#series-overview)\n",
    "    * Creating \n",
    "    * index\n",
    "    * values\n",
    "* [DataFrame overview](#dataframe-overview)\n",
    "    * Creating empty DataFrame\n",
    "    * Creating a DataFrame from a Python dict\n",
    "    * Adding columns\n",
    "    * Appending rows to the DataFrame\n",
    "* [DataFrame characteristics](#dataframe-characteristics)\n",
    "    * shape\n",
    "    * describe \n",
    "    * head\n",
    "    * tail\n",
    "* [DataFrame indexing](#dataframe-indexing)\n",
    "    * Using iloc to select single row\n",
    "    * Using iloc to select multiple rows (slicing)\n",
    "    * Using iloc to select multiple rows with steps (slicing with steps)\n",
    "    * Setting an index\n",
    "    * Using loc to select a single row\n",
    "* [Conditionals](#conditionals)\n",
    "* [Resources](#resources)"
   ]
  },
  {
   "cell_type": "markdown",
   "metadata": {},
   "source": [
    "<a id=\"what-is-pandas\"></a>\n",
    "### What Is Pandas?\n",
    "\n",
    "Pandas is data analysis and manipulation tool.\n",
    "\n",
    "[More information](https://pandas.pydata.org/about/index.html)"
   ]
  },
  {
   "cell_type": "markdown",
   "metadata": {},
   "source": [
    "<a id=\"why-pandas\"></a>\n",
    "### Why Pandas?\n",
    "\n",
    "* Fast\n",
    "* Powerful\n",
    "* Flexible\n",
    "* Easy to use\n",
    "* Open source\n",
    "* Built on top of the Python programming language."
   ]
  },
  {
   "cell_type": "markdown",
   "metadata": {},
   "source": [
    "<a id=\"installing-pandas\"></a>\n",
    "### Installing Pandas\n",
    "\n",
    "Pandas is already included in the following stacks:\n",
    "* [Anaconda](https://www.anaconda.com/)\n",
    "* [SciPy](https://www.scipy.org/about.html)\n",
    "\n",
    "Numpy can also be installed with pip:\n",
    "\n",
    "```\n",
    "python3 -m pip install pandas\n",
    "```"
   ]
  },
  {
   "cell_type": "markdown",
   "metadata": {},
   "source": [
    "<a id=\"getting-started\"></a>\n",
    "### Getting Started\n",
    "\n",
    "By convention, when imported pandas is typically aliased as pd."
   ]
  },
  {
   "cell_type": "code",
   "execution_count": null,
   "metadata": {},
   "outputs": [],
   "source": [
    "import pandas as pd"
   ]
  },
  {
   "cell_type": "markdown",
   "metadata": {},
   "source": [
    "<a id=\"data-structures\"></a>\n",
    "### Data Structures\n",
    "\n",
    "**Series**\n",
    "Series are designed to accomodate a sequence of one-dimentional data.  \n",
    "\n",
    "**DataFrame**\n",
    "Dataframes are designed to contain cases with several dimensions."
   ]
  },
  {
   "cell_type": "markdown",
   "metadata": {},
   "source": [
    "<a id=\"series-overview\"></a>\n",
    "### Series Overview\n",
    "\n",
    "[Series](https://pandas.pydata.org/pandas-docs/stable/reference/series.html) is a one-dimensional labeled array capable of holding any data type (integers, strings, floating point numbers, Python objects, etc.)."
   ]
  },
  {
   "cell_type": "code",
   "execution_count": null,
   "metadata": {},
   "outputs": [],
   "source": [
    "s = pd.Series([1, 2, 3, 4])"
   ]
  },
  {
   "cell_type": "code",
   "execution_count": null,
   "metadata": {},
   "outputs": [],
   "source": [
    "s"
   ]
  },
  {
   "cell_type": "code",
   "execution_count": null,
   "metadata": {},
   "outputs": [],
   "source": [
    "s.index"
   ]
  },
  {
   "cell_type": "code",
   "execution_count": null,
   "metadata": {},
   "outputs": [],
   "source": [
    "type(s.index)"
   ]
  },
  {
   "cell_type": "code",
   "execution_count": null,
   "metadata": {},
   "outputs": [],
   "source": [
    "s.values"
   ]
  },
  {
   "cell_type": "code",
   "execution_count": null,
   "metadata": {},
   "outputs": [],
   "source": [
    "# the values in a Series is simply a numpy ndarray\n",
    "type(s.values)"
   ]
  },
  {
   "cell_type": "markdown",
   "metadata": {},
   "source": [
    "<a id=\"dataframe-overview\"></a>\n",
    "### DataFrame Overview\n",
    "\n",
    "[DataFrame](https://pandas.pydata.org/pandas-docs/stable/reference/frame.html) is a 2-dimensional labeled data structure with columns of potentially different types."
   ]
  },
  {
   "cell_type": "markdown",
   "metadata": {},
   "source": [
    "**Creating an empty DataFrame**"
   ]
  },
  {
   "cell_type": "code",
   "execution_count": null,
   "metadata": {},
   "outputs": [],
   "source": [
    "f1_2019_races = pd.DataFrame()"
   ]
  },
  {
   "cell_type": "code",
   "execution_count": null,
   "metadata": {},
   "outputs": [],
   "source": [
    "f1_2019_races"
   ]
  },
  {
   "cell_type": "markdown",
   "metadata": {},
   "source": [
    "**Creating a DataFrame from a Python dict**\n",
    "\n",
    "[data source](https://www.formula1.com/en/results.html/2019/races.html)"
   ]
  },
  {
   "cell_type": "code",
   "execution_count": null,
   "metadata": {},
   "outputs": [],
   "source": [
    "races_dict = {\n",
    "    \"grand_prix\": [ \n",
    "        'Australia', 'Bahrain', 'China', \n",
    "        'Azerbaijan', 'Spain', 'Monaco', \n",
    "        'Canada', 'France', 'Austria', \n",
    "        'Great Britain', 'Germany', 'Hungary', \n",
    "        'Belgium', 'Italy', 'Singapore', \n",
    "        'Russia', 'Japan', 'Mexico', \n",
    "        'United States', 'Brazil',\n",
    "    ],\n",
    "    \"laps\": [\n",
    "        58, 57, 56,\n",
    "        51, 66, 78,\n",
    "        70, 53, 71, \n",
    "        52, 64, 70,\n",
    "        44, 53, 61,\n",
    "        53, 52, 71, \n",
    "        56, 71, \n",
    "    ]\n",
    "}"
   ]
  },
  {
   "cell_type": "code",
   "execution_count": null,
   "metadata": {},
   "outputs": [],
   "source": [
    "f1_2019_races = pd.DataFrame(races_dict)"
   ]
  },
  {
   "cell_type": "code",
   "execution_count": null,
   "metadata": {},
   "outputs": [],
   "source": [
    "f1_2019_races"
   ]
  },
  {
   "cell_type": "markdown",
   "metadata": {},
   "source": [
    "**Adding columns to a DataFrame**"
   ]
  },
  {
   "cell_type": "code",
   "execution_count": null,
   "metadata": {},
   "outputs": [],
   "source": [
    "f1_2019_races['winner'] = [\n",
    "    'Valtteri Bottas', 'Lewis Hamilton', 'Lewis Hamilton',\n",
    "    'Valtteri Bottas', 'Lewis Hamilton', 'Lewis Hamilton',\n",
    "    'Lewis Hamilton', 'Lewis Hamilton', 'Max Verstappen',\n",
    "    'Lewis Hamilton', 'Max Verstappen', 'Lewis Hamilton',\n",
    "    'Charles Leclerc', 'Charles Leclerc', 'Sebastian Vettel',\n",
    "    'Lewis Hamilton', 'Valtteri Bottas', 'Lewis Hamilton',\n",
    "    'Valtteri Bottas', 'Max Verstappen',\n",
    "]"
   ]
  },
  {
   "cell_type": "code",
   "execution_count": null,
   "metadata": {},
   "outputs": [],
   "source": [
    "f1_2019_races['car'] = [\n",
    "    'MERCEDES', 'MERCEDES', 'MERCEDES', \n",
    "    'MERCEDES', 'MERCEDES', 'MERCEDES', \n",
    "    'MERCEDES', 'MERCEDES', 'RED BULL RACING HONDA',\n",
    "    'MERCEDES', 'RED BULL RACING HONDA', 'MERCEDES',\n",
    "    'FERRARI', 'FERRARI', 'FERRARI', \n",
    "    'MERCEDES', 'MERCEDES', 'MERCEDES', \n",
    "    'MERCEDES', 'RED BULL RACING HONDA'\n",
    "]"
   ]
  },
  {
   "cell_type": "code",
   "execution_count": null,
   "metadata": {},
   "outputs": [],
   "source": [
    "f1_2019_races"
   ]
  },
  {
   "cell_type": "code",
   "execution_count": null,
   "metadata": {},
   "outputs": [],
   "source": [
    "tempdf = f1_2019_races"
   ]
  },
  {
   "cell_type": "code",
   "execution_count": null,
   "metadata": {},
   "outputs": [],
   "source": [
    "f1_2019_races = tempdf"
   ]
  },
  {
   "cell_type": "markdown",
   "metadata": {},
   "source": [
    "**Appending rows to the DataFrame**"
   ]
  },
  {
   "cell_type": "code",
   "execution_count": null,
   "metadata": {},
   "outputs": [],
   "source": [
    "abu_dhabi_race = [ {'grand_prix':'Abu Dhabi', \n",
    "                  'laps': 55, \n",
    "                  'winner':'Lewis Hamilton', \n",
    "                  'car':'MERCEDES' } ]\n",
    "abu = pd.DataFrame.from_records(abu_dhabi_race)\n",
    "# abu = pd.Dataframe(abu_dhabi_race)"
   ]
  },
  {
   "cell_type": "code",
   "execution_count": null,
   "metadata": {},
   "outputs": [],
   "source": [
    "newdf = pd.concat([f1_2019_races, abu], ignore_index=True)"
   ]
  },
  {
   "cell_type": "code",
   "execution_count": null,
   "metadata": {},
   "outputs": [],
   "source": [
    "newdf"
   ]
  },
  {
   "cell_type": "markdown",
   "metadata": {},
   "source": [
    "<a id=\"dataframe-characteristics\"></a>\n",
    "### DataFrame Characteristics\n"
   ]
  },
  {
   "cell_type": "code",
   "execution_count": null,
   "metadata": {},
   "outputs": [],
   "source": [
    "f1_2019_races.shape"
   ]
  },
  {
   "cell_type": "code",
   "execution_count": null,
   "metadata": {},
   "outputs": [],
   "source": [
    "f1_2019_races.describe()"
   ]
  },
  {
   "cell_type": "code",
   "execution_count": null,
   "metadata": {},
   "outputs": [],
   "source": [
    "# describe is also available for Series (a column in the DataFrame)\n",
    "f1_2019_races['car'].describe()"
   ]
  },
  {
   "cell_type": "code",
   "execution_count": null,
   "metadata": {},
   "outputs": [],
   "source": [
    "# view the first few rows (defaults to first 5)\n",
    "f1_2019_races.head()"
   ]
  },
  {
   "cell_type": "code",
   "execution_count": null,
   "metadata": {},
   "outputs": [],
   "source": [
    "f1_2019_races.head(3) # we can specify how many we want instead of the default value."
   ]
  },
  {
   "cell_type": "code",
   "execution_count": null,
   "metadata": {},
   "outputs": [],
   "source": [
    "# view the last few rows (defaults to last 5)\n",
    "f1_2019_races.tail()"
   ]
  },
  {
   "cell_type": "code",
   "execution_count": null,
   "metadata": {},
   "outputs": [],
   "source": [
    "f1_2019_races.tail(7) # we can specify how many we want instead of the default value."
   ]
  },
  {
   "cell_type": "markdown",
   "metadata": {},
   "source": [
    "<a id=\"dataframe-indexing\"></a>\n",
    "### DataFrame Indexing\n"
   ]
  },
  {
   "cell_type": "markdown",
   "metadata": {},
   "source": [
    "**Using iloc to select a single row**"
   ]
  },
  {
   "cell_type": "code",
   "execution_count": null,
   "metadata": {},
   "outputs": [],
   "source": [
    "# select the first row by index position\n",
    "f1_2019_races.iloc[0]"
   ]
  },
  {
   "cell_type": "code",
   "execution_count": null,
   "metadata": {},
   "outputs": [],
   "source": [
    "# select the last row by index position\n",
    "f1_2019_races.iloc[-1]"
   ]
  },
  {
   "cell_type": "markdown",
   "metadata": {},
   "source": [
    "**Using iloc to select multiple rows (slicing)**"
   ]
  },
  {
   "cell_type": "code",
   "execution_count": null,
   "metadata": {},
   "outputs": [],
   "source": [
    "# select rows associated with indexes 7-13\n",
    "f1_2019_races.iloc[7:14]"
   ]
  },
  {
   "cell_type": "markdown",
   "metadata": {},
   "source": [
    "**Using iloc to select multiple rows with steps (slicing with steps)**"
   ]
  },
  {
   "cell_type": "code",
   "execution_count": null,
   "metadata": {},
   "outputs": [],
   "source": [
    "# select every third race in the DataFrame starting with the 3rd race\n",
    "# remember that arrays use zero based indexes\n",
    "f1_2019_races.iloc[2::3]"
   ]
  },
  {
   "cell_type": "markdown",
   "metadata": {},
   "source": [
    "**Setting an index**"
   ]
  },
  {
   "cell_type": "code",
   "execution_count": null,
   "metadata": {},
   "outputs": [],
   "source": [
    "f1_2019_races = f1_2019_races.set_index(f1_2019_races['grand_prix'])"
   ]
  },
  {
   "cell_type": "markdown",
   "metadata": {},
   "source": [
    "**Using loc to select a single row**"
   ]
  },
  {
   "cell_type": "code",
   "execution_count": null,
   "metadata": {},
   "outputs": [],
   "source": [
    "# select the row corresponding to the Brazilian Grand Prix\n",
    "f1_2019_races.loc['Brazil']"
   ]
  },
  {
   "cell_type": "markdown",
   "metadata": {},
   "source": [
    "<a id=\"conditionals\"></a>\n",
    "### Conditionals\n"
   ]
  },
  {
   "cell_type": "markdown",
   "metadata": {},
   "source": [
    "Single condition"
   ]
  },
  {
   "cell_type": "code",
   "execution_count": null,
   "metadata": {},
   "outputs": [],
   "source": [
    "# Find races that Mercedes did not win first place.\n",
    "f1_2019_races[f1_2019_races['car'] != 'MERCEDES']"
   ]
  },
  {
   "cell_type": "markdown",
   "metadata": {},
   "source": [
    "When using multiple conditions be sure to:  \n",
    "* separate each condition with the & sign  \n",
    "* wrap each condition in parentheses"
   ]
  },
  {
   "cell_type": "code",
   "execution_count": null,
   "metadata": {},
   "outputs": [],
   "source": [
    "# Find the races where the race had less than 60 laps and the winner was someone other than Lewis Hamilton\n",
    "f1_2019_races[(f1_2019_races['laps'] < 60) & (f1_2019_races['winner'] != 'Lewis Hamilton')]"
   ]
  },
  {
   "cell_type": "markdown",
   "metadata": {},
   "source": [
    "<a id=\"resources\"></a>\n",
    "### Resources\n",
    "\n",
    "* [User Guide](https://pandas.pydata.org/pandas-docs/stable/user_guide/index.html)\n",
    "* [Pandas Category Data Type](https://pbpython.com/pandas_dtypes_cat.html)"
   ]
  },
  {
   "cell_type": "markdown",
   "metadata": {},
   "source": [
    "![Capivara](../imgs/capivara.jpg)"
   ]
  },
  {
   "cell_type": "code",
   "execution_count": null,
   "metadata": {},
   "outputs": [],
   "source": []
  }
 ],
 "metadata": {
  "kernelspec": {
   "display_name": "venv",
   "language": "python",
   "name": "venv"
  },
  "language_info": {
   "codemirror_mode": {
    "name": "ipython",
    "version": 3
   },
   "file_extension": ".py",
   "mimetype": "text/x-python",
   "name": "python",
   "nbconvert_exporter": "python",
   "pygments_lexer": "ipython3",
   "version": "3.10.9"
  },
  "nteract": {
   "version": "0.21.0"
  }
 },
 "nbformat": 4,
 "nbformat_minor": 2
}
